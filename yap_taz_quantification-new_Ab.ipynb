{
 "cells": [
  {
   "cell_type": "markdown",
   "id": "ab446f13",
   "metadata": {},
   "source": [
    "# YAP/TAZ quantification\n",
    "## 05/31/23\n",
    "\n",
    "### Segmentation using Cellpose. Segment nucleus and cytoplasm. Quantify YAP intensity.\n",
    "\n",
    "### Author: Andy D. Tran, CCR Microscopy Core, LCBG, CCR, NCI"
   ]
  },
  {
   "cell_type": "code",
   "execution_count": 1,
   "id": "acd99b4a",
   "metadata": {},
   "outputs": [],
   "source": [
    "# Import libraries-------------------------------------------------------------------------------------------------\n",
    "\n",
    "import os \n",
    "import numpy as np\n",
    "import pandas as pd \n",
    "import napari \n",
    "import re \n",
    "\n",
    "from scipy import ndimage as nd \n",
    "from aicsimageio import AICSImage\n",
    "from tifffile import imread, imwrite \n",
    "from skimage.measure import label, regionprops\n",
    "from cellpose import models, io \n",
    "from tqdm import tqdm"
   ]
  },
  {
   "cell_type": "code",
   "execution_count": 6,
   "id": "cbc7fa6b",
   "metadata": {},
   "outputs": [],
   "source": [
    "# Define paths------------------------------------------------------------------------------------------------------\n",
    "\n",
    "base_path = '/Volumes/LECIMAGE/Analysis/[NCI] [LCBG] Lalage Wakefield/Binwu Tang/images/new_Ab_Yap/10_23'\n",
    "output_path = '/Volumes/LECIMAGE/Analysis/[NCI] [LCBG] Lalage Wakefield/Binwu Tang/output/New_Ab_Yap/10_23'\n",
    "\n",
    "nuc_model = models.CellposeModel(pretrained_model = '/Volumes/LECIMAGE/Analysis/[NCI] [LCBG] Lalage Wakefield/Binwu Tang/training/yap_taz_nuclei/models/tangb_yaptaz_nuc_01')\n",
    "cyto_model = models.CellposeModel(gpu = False, model_type = 'cyto3')"
   ]
  },
  {
   "cell_type": "code",
   "execution_count": 7,
   "id": "e7b048b3",
   "metadata": {},
   "outputs": [],
   "source": [
    "# Define functions--------------------------------------------------------------------------------------------------\n",
    "\n",
    "def roi_quant(lbl_img, yap_img, sore6_img):\n",
    "    df = pd.DataFrame() \n",
    "    \n",
    "    cell_id = []\n",
    "    area = [] \n",
    "    yap_intensity = [] \n",
    "    sore6_intensity = []\n",
    "    \n",
    "    roi_props = regionprops(lbl_img, intensity_image = yap_img)\n",
    "    sore_props = regionprops(lbl_img, intensity_image = sore6_img)\n",
    "    \n",
    "    for roi in tqdm(range(len(roi_props))):\n",
    "        cell_id.append(roi_props[roi].label)\n",
    "        area.append(roi_props[roi].area)\n",
    "        yap_intensity.append(roi_props[roi].mean_intensity)\n",
    "        sore6_intensity.append(sore_props[roi].mean_intensity)\n",
    "        \n",
    "    df['cell_id'] = cell_id\n",
    "    df['area'] = area\n",
    "    df['yap_intensity'] = yap_intensity\n",
    "    df['sore6_intensity'] = sore6_intensity\n",
    "    \n",
    "    return df\n",
    "\n",
    "def model_apply(img, diam, model, seg):\n",
    "    if seg == 'nuclei':\n",
    "        masks, flows, styles = model.eval(img, diameter = diam, channels = [0, 0])\n",
    "        masks = np.uint16(masks)\n",
    "    else:\n",
    "        masks, flows, styles = model.eval(img, diameter = diam, channels = [2, 1])\n",
    "        masks = np.uint16(masks)\n",
    "    \n",
    "    return masks"
   ]
  },
  {
   "cell_type": "markdown",
   "id": "a9deb9fd",
   "metadata": {},
   "source": [
    "### Main function"
   ]
  },
  {
   "cell_type": "code",
   "execution_count": 8,
   "id": "108a09cf",
   "metadata": {},
   "outputs": [
    {
     "name": "stdout",
     "output_type": "stream",
     "text": [
      "['JM115A s6 100k 40x allab007.nd2', 'JM115A s6 12.5k 40xallab013.nd2', 'JM115A s6 12.5k 40xallab017.nd2', 'JM115A s6 12.5k 40xallab012.nd2', 'JM115A s6 12.5k 40xallab002.nd2', 'JM115A s6 12.5k 40xallab009.nd2', 'JM115A s6 12.5k 40xallab005.nd2', 'JM115A s6 12.5k 40xallab019.nd2', 'JM115A s6 100k 40x allab009.nd2', 'JM115A s6 12.5k 40xallab003.nd2', 'JM115Amcmv 40x all ab2.nd2', 'JM115A s6 100k 40x allab.nd2', 'JM115A s6 100k 40x allab004.nd2', 'JM115A s6 100k 40x allab002.nd2', 'JM115A s650k 40x no ab001.nd2', 'JM115A s6 100k 40x allab008.nd2', 'JM115A s6 12.5k 40xallab011.nd2', 'JM115A s6 100k 40x allab001.nd2', 'JM115A s6 12.5k 40xallab020.nd2', 'JM115A s6 12.5k 40xallab010.nd2', 'JM115A s6 100k 40x allab005.nd2', 'JM115A s6 12.5k 40xallab018.nd2', 'JM115A s650k 40x mcheery001.nd2', 'JM115A s650k 40x Yap 001.nd2', 'JM115A s6 100k 40x allab003.nd2', 'JM115A s6 12.5k 40xallab016.nd2', 'JM115A s6 12.5k 40xallab015.nd2', 'JM115Amcmv 40x allab002.nd2', 'JM115A s650k 40x mcheery.nd2', 'JM115A s6 12.5k 40xallab001.nd2', 'JM115A s6 100k 40x allab006.nd2', 'JM115Amcmv 40x allab001.nd2', 'JM115A s6 12.5k 40xallab006.nd2', 'JM115A s650k 40x Yap .nd2', 'JM115Amcmv 40x all ab2003.nd2', 'JM115A s650k 40x no ab.nd2', 'JM115A s6 12.5k 40xallab014.nd2', 'JM115A s6 12.5k 40xallab008.nd2', 'JM115Amcmv 40x all ab2002.nd2', 'JM115A s6 12.5k 40xallab004.nd2', 'JM115A s6 12.5k 40xallab007.nd2', 'JM115Amcmv 40x allab.nd2', 'JM115Amcmv 40x all ab2001.nd2', 'JM115A s6 12.5k 40xallab.nd2']\n",
      "44\n"
     ]
    }
   ],
   "source": [
    "# Get image list----------------------------------------------------------------------------------------------------\n",
    "\n",
    "tmp_list = os.listdir(base_path)\n",
    "img_list = [] \n",
    "\n",
    "for tmp in tmp_list:\n",
    "    if re.search('.nd2', tmp):\n",
    "        img_list.append(tmp)\n",
    "        \n",
    "print(img_list)\n",
    "print(len(img_list))"
   ]
  },
  {
   "cell_type": "code",
   "execution_count": 9,
   "id": "1f0e0ff4",
   "metadata": {
    "scrolled": true
   },
   "outputs": [
    {
     "name": "stdout",
     "output_type": "stream",
     "text": [
      "JM115A s6 100k 40x allab007.nd2\n",
      "(1, 4, 1, 2200, 2200)\n"
     ]
    },
    {
     "name": "stderr",
     "output_type": "stream",
     "text": [
      "100%|██████████████████████████████████████| 144/144 [00:00<00:00, 17593.35it/s]\n",
      "100%|███████████████████████████████████████| 152/152 [00:00<00:00, 8579.85it/s]\n",
      "100%|███████████████████████████████████████| 151/151 [00:00<00:00, 7330.83it/s]\n"
     ]
    },
    {
     "name": "stdout",
     "output_type": "stream",
     "text": [
      "JM115A s6 12.5k 40xallab013.nd2\n",
      "(1, 4, 1, 2200, 2200)\n"
     ]
    },
    {
     "name": "stderr",
     "output_type": "stream",
     "text": [
      "100%|████████████████████████████████████████| 62/62 [00:00<00:00, 12669.14it/s]\n",
      "100%|█████████████████████████████████████████| 64/64 [00:00<00:00, 3157.25it/s]\n",
      "100%|█████████████████████████████████████████| 64/64 [00:00<00:00, 3890.14it/s]\n"
     ]
    },
    {
     "name": "stdout",
     "output_type": "stream",
     "text": [
      "JM115A s6 12.5k 40xallab017.nd2\n",
      "(1, 4, 1, 2200, 2200)\n"
     ]
    },
    {
     "name": "stderr",
     "output_type": "stream",
     "text": [
      "100%|████████████████████████████████████████| 76/76 [00:00<00:00, 12238.15it/s]\n",
      "100%|█████████████████████████████████████████| 79/79 [00:00<00:00, 3153.94it/s]\n",
      "100%|█████████████████████████████████████████| 79/79 [00:00<00:00, 3334.07it/s]\n"
     ]
    },
    {
     "name": "stdout",
     "output_type": "stream",
     "text": [
      "JM115A s6 12.5k 40xallab012.nd2\n",
      "(1, 4, 1, 2200, 2200)\n"
     ]
    },
    {
     "name": "stderr",
     "output_type": "stream",
     "text": [
      "100%|████████████████████████████████████████| 36/36 [00:00<00:00, 12092.17it/s]\n",
      "100%|█████████████████████████████████████████| 43/43 [00:00<00:00, 4017.26it/s]\n",
      "100%|█████████████████████████████████████████| 43/43 [00:00<00:00, 4645.69it/s]\n"
     ]
    },
    {
     "name": "stdout",
     "output_type": "stream",
     "text": [
      "JM115A s6 12.5k 40xallab002.nd2\n",
      "(1, 4, 1, 2200, 2200)\n"
     ]
    },
    {
     "name": "stderr",
     "output_type": "stream",
     "text": [
      "100%|████████████████████████████████████████| 51/51 [00:00<00:00, 11595.90it/s]\n",
      "100%|█████████████████████████████████████████| 59/59 [00:00<00:00, 3755.54it/s]\n",
      "100%|█████████████████████████████████████████| 59/59 [00:00<00:00, 4362.60it/s]\n"
     ]
    },
    {
     "name": "stdout",
     "output_type": "stream",
     "text": [
      "JM115A s6 12.5k 40xallab009.nd2\n",
      "(1, 4, 1, 2200, 2200)\n"
     ]
    },
    {
     "name": "stderr",
     "output_type": "stream",
     "text": [
      "100%|████████████████████████████████████████| 59/59 [00:00<00:00, 12243.42it/s]\n",
      "100%|█████████████████████████████████████████| 63/63 [00:00<00:00, 3710.21it/s]\n",
      "100%|█████████████████████████████████████████| 63/63 [00:00<00:00, 4128.64it/s]\n"
     ]
    },
    {
     "name": "stdout",
     "output_type": "stream",
     "text": [
      "JM115A s6 12.5k 40xallab005.nd2\n",
      "(1, 4, 1, 2200, 2200)\n"
     ]
    },
    {
     "name": "stderr",
     "output_type": "stream",
     "text": [
      "100%|████████████████████████████████████████| 42/42 [00:00<00:00, 11995.97it/s]\n",
      "100%|█████████████████████████████████████████| 42/42 [00:00<00:00, 3899.78it/s]\n",
      "100%|█████████████████████████████████████████| 42/42 [00:00<00:00, 4024.88it/s]\n"
     ]
    },
    {
     "name": "stdout",
     "output_type": "stream",
     "text": [
      "JM115A s6 12.5k 40xallab019.nd2\n",
      "(1, 4, 1, 2200, 2200)\n"
     ]
    },
    {
     "name": "stderr",
     "output_type": "stream",
     "text": [
      "100%|█████████████████████████████████████████| 65/65 [00:00<00:00, 8981.67it/s]\n",
      "100%|█████████████████████████████████████████| 71/71 [00:00<00:00, 3178.15it/s]\n",
      "100%|█████████████████████████████████████████| 71/71 [00:00<00:00, 3584.10it/s]\n"
     ]
    },
    {
     "name": "stdout",
     "output_type": "stream",
     "text": [
      "JM115A s6 100k 40x allab009.nd2\n",
      "(1, 4, 1, 2200, 2200)\n"
     ]
    },
    {
     "name": "stderr",
     "output_type": "stream",
     "text": [
      "100%|██████████████████████████████████████| 133/133 [00:00<00:00, 17424.41it/s]\n",
      "100%|███████████████████████████████████████| 142/142 [00:00<00:00, 9386.78it/s]\n",
      "100%|███████████████████████████████████████| 141/141 [00:00<00:00, 9370.59it/s]\n"
     ]
    },
    {
     "name": "stdout",
     "output_type": "stream",
     "text": [
      "JM115A s6 12.5k 40xallab003.nd2\n",
      "(1, 4, 1, 2200, 2200)\n"
     ]
    },
    {
     "name": "stderr",
     "output_type": "stream",
     "text": [
      "100%|████████████████████████████████████████| 70/70 [00:00<00:00, 13592.02it/s]\n",
      "100%|█████████████████████████████████████████| 75/75 [00:00<00:00, 2921.91it/s]\n",
      "100%|█████████████████████████████████████████| 75/75 [00:00<00:00, 3300.00it/s]\n"
     ]
    },
    {
     "name": "stdout",
     "output_type": "stream",
     "text": [
      "JM115Amcmv 40x all ab2.nd2\n",
      "(1, 4, 1, 2200, 2200)\n"
     ]
    },
    {
     "name": "stderr",
     "output_type": "stream",
     "text": [
      "100%|████████████████████████████████████████| 56/56 [00:00<00:00, 12641.61it/s]\n",
      "100%|█████████████████████████████████████████| 64/64 [00:00<00:00, 5540.23it/s]\n",
      "100%|█████████████████████████████████████████| 64/64 [00:00<00:00, 6327.15it/s]\n"
     ]
    },
    {
     "name": "stdout",
     "output_type": "stream",
     "text": [
      "JM115A s6 100k 40x allab.nd2\n",
      "(1, 4, 1, 2200, 2200)\n"
     ]
    },
    {
     "name": "stderr",
     "output_type": "stream",
     "text": [
      "100%|██████████████████████████████████████| 181/181 [00:00<00:00, 18557.96it/s]\n",
      "100%|███████████████████████████████████████| 194/194 [00:00<00:00, 7141.50it/s]\n",
      "100%|███████████████████████████████████████| 194/194 [00:00<00:00, 7568.41it/s]\n"
     ]
    },
    {
     "name": "stdout",
     "output_type": "stream",
     "text": [
      "JM115A s6 100k 40x allab004.nd2\n",
      "(1, 4, 1, 2200, 2200)\n"
     ]
    },
    {
     "name": "stderr",
     "output_type": "stream",
     "text": [
      "100%|██████████████████████████████████████| 149/149 [00:00<00:00, 19815.82it/s]\n",
      "100%|███████████████████████████████████████| 159/159 [00:00<00:00, 9397.78it/s]\n",
      "100%|██████████████████████████████████████| 159/159 [00:00<00:00, 11970.17it/s]\n"
     ]
    },
    {
     "name": "stdout",
     "output_type": "stream",
     "text": [
      "JM115A s6 100k 40x allab002.nd2\n",
      "(1, 4, 1, 2200, 2200)\n"
     ]
    },
    {
     "name": "stderr",
     "output_type": "stream",
     "text": [
      "100%|██████████████████████████████████████| 147/147 [00:00<00:00, 12656.01it/s]\n",
      "100%|███████████████████████████████████████| 157/157 [00:00<00:00, 8234.00it/s]\n",
      "100%|███████████████████████████████████████| 157/157 [00:00<00:00, 7787.99it/s]\n"
     ]
    },
    {
     "name": "stdout",
     "output_type": "stream",
     "text": [
      "JM115A s650k 40x no ab001.nd2\n",
      "(1, 4, 1, 2200, 2200)\n"
     ]
    },
    {
     "name": "stderr",
     "output_type": "stream",
     "text": [
      "100%|████████████████████████████████████████| 59/59 [00:00<00:00, 13606.64it/s]\n",
      "100%|█████████████████████████████████████████| 69/69 [00:00<00:00, 4556.87it/s]\n",
      "100%|█████████████████████████████████████████| 69/69 [00:00<00:00, 5117.63it/s]\n"
     ]
    },
    {
     "name": "stdout",
     "output_type": "stream",
     "text": [
      "JM115A s6 100k 40x allab008.nd2\n",
      "(1, 4, 1, 2200, 2200)\n"
     ]
    },
    {
     "name": "stderr",
     "output_type": "stream",
     "text": [
      "100%|██████████████████████████████████████| 149/149 [00:00<00:00, 20293.92it/s]\n",
      "100%|██████████████████████████████████████| 162/162 [00:00<00:00, 11566.36it/s]\n",
      "100%|███████████████████████████████████████| 162/162 [00:00<00:00, 9769.48it/s]\n"
     ]
    },
    {
     "name": "stdout",
     "output_type": "stream",
     "text": [
      "JM115A s6 12.5k 40xallab011.nd2\n",
      "(1, 4, 1, 2200, 2200)\n"
     ]
    },
    {
     "name": "stderr",
     "output_type": "stream",
     "text": [
      "100%|████████████████████████████████████████| 56/56 [00:00<00:00, 14031.12it/s]\n",
      "100%|█████████████████████████████████████████| 58/58 [00:00<00:00, 3291.34it/s]\n",
      "100%|█████████████████████████████████████████| 58/58 [00:00<00:00, 3714.55it/s]\n"
     ]
    },
    {
     "name": "stdout",
     "output_type": "stream",
     "text": [
      "JM115A s6 100k 40x allab001.nd2\n",
      "(1, 4, 1, 2200, 2200)\n"
     ]
    },
    {
     "name": "stderr",
     "output_type": "stream",
     "text": [
      "100%|██████████████████████████████████████| 168/168 [00:00<00:00, 18687.33it/s]\n",
      "100%|███████████████████████████████████████| 187/187 [00:00<00:00, 6314.84it/s]\n",
      "100%|███████████████████████████████████████| 187/187 [00:00<00:00, 7215.33it/s]\n"
     ]
    },
    {
     "name": "stdout",
     "output_type": "stream",
     "text": [
      "JM115A s6 12.5k 40xallab020.nd2\n",
      "(1, 4, 1, 2200, 2200)\n"
     ]
    },
    {
     "name": "stderr",
     "output_type": "stream",
     "text": [
      "100%|████████████████████████████████████████| 99/99 [00:00<00:00, 13152.87it/s]\n",
      "100%|███████████████████████████████████████| 106/106 [00:00<00:00, 3618.10it/s]\n",
      "100%|███████████████████████████████████████| 106/106 [00:00<00:00, 4152.78it/s]\n"
     ]
    },
    {
     "name": "stdout",
     "output_type": "stream",
     "text": [
      "JM115A s6 12.5k 40xallab010.nd2\n",
      "(1, 4, 1, 2200, 2200)\n"
     ]
    },
    {
     "name": "stderr",
     "output_type": "stream",
     "text": [
      "100%|████████████████████████████████████████| 24/24 [00:00<00:00, 10160.83it/s]\n",
      "100%|█████████████████████████████████████████| 24/24 [00:00<00:00, 5921.72it/s]\n",
      "100%|█████████████████████████████████████████| 24/24 [00:00<00:00, 5432.45it/s]\n"
     ]
    },
    {
     "name": "stdout",
     "output_type": "stream",
     "text": [
      "JM115A s6 100k 40x allab005.nd2\n",
      "(1, 4, 1, 2200, 2200)\n"
     ]
    },
    {
     "name": "stderr",
     "output_type": "stream",
     "text": [
      "100%|██████████████████████████████████████| 166/166 [00:00<00:00, 18607.97it/s]\n",
      "100%|██████████████████████████████████████| 177/177 [00:00<00:00, 11856.26it/s]\n",
      "100%|██████████████████████████████████████| 177/177 [00:00<00:00, 10474.52it/s]\n"
     ]
    },
    {
     "name": "stdout",
     "output_type": "stream",
     "text": [
      "JM115A s6 12.5k 40xallab018.nd2\n",
      "(1, 4, 1, 2200, 2200)\n"
     ]
    },
    {
     "name": "stderr",
     "output_type": "stream",
     "text": [
      "100%|████████████████████████████████████████| 64/64 [00:00<00:00, 13834.03it/s]\n",
      "100%|█████████████████████████████████████████| 67/67 [00:00<00:00, 4353.50it/s]\n",
      "100%|█████████████████████████████████████████| 67/67 [00:00<00:00, 4550.02it/s]\n"
     ]
    },
    {
     "name": "stdout",
     "output_type": "stream",
     "text": [
      "JM115A s650k 40x mcheery001.nd2\n",
      "(1, 4, 1, 2200, 2200)\n"
     ]
    },
    {
     "name": "stderr",
     "output_type": "stream",
     "text": [
      "100%|██████████████████████████████████████| 126/126 [00:00<00:00, 17561.05it/s]\n",
      "100%|███████████████████████████████████████| 130/130 [00:00<00:00, 8257.50it/s]\n",
      "100%|███████████████████████████████████████| 130/130 [00:00<00:00, 8844.15it/s]\n"
     ]
    },
    {
     "name": "stdout",
     "output_type": "stream",
     "text": [
      "JM115A s650k 40x Yap 001.nd2\n",
      "(1, 4, 1, 2200, 2200)\n"
     ]
    },
    {
     "name": "stderr",
     "output_type": "stream",
     "text": [
      "100%|██████████████████████████████████████| 157/157 [00:00<00:00, 15885.60it/s]\n",
      "100%|███████████████████████████████████████| 167/167 [00:00<00:00, 6622.25it/s]\n",
      "100%|███████████████████████████████████████| 167/167 [00:00<00:00, 7887.76it/s]\n"
     ]
    },
    {
     "name": "stdout",
     "output_type": "stream",
     "text": [
      "JM115A s6 100k 40x allab003.nd2\n",
      "(1, 4, 1, 2200, 2200)\n"
     ]
    },
    {
     "name": "stderr",
     "output_type": "stream",
     "text": [
      "100%|██████████████████████████████████████| 144/144 [00:00<00:00, 14824.14it/s]\n",
      "100%|███████████████████████████████████████| 153/153 [00:00<00:00, 9165.06it/s]\n",
      "100%|███████████████████████████████████████| 153/153 [00:00<00:00, 8294.50it/s]\n"
     ]
    },
    {
     "name": "stdout",
     "output_type": "stream",
     "text": [
      "JM115A s6 12.5k 40xallab016.nd2\n",
      "(1, 4, 1, 2200, 2200)\n"
     ]
    },
    {
     "name": "stderr",
     "output_type": "stream",
     "text": [
      "100%|█████████████████████████████████████████| 56/56 [00:00<00:00, 9421.24it/s]\n",
      "100%|█████████████████████████████████████████| 62/62 [00:00<00:00, 3568.93it/s]\n",
      "100%|█████████████████████████████████████████| 62/62 [00:00<00:00, 4061.84it/s]\n"
     ]
    },
    {
     "name": "stdout",
     "output_type": "stream",
     "text": [
      "JM115A s6 12.5k 40xallab015.nd2\n",
      "(1, 4, 1, 2200, 2200)\n"
     ]
    },
    {
     "name": "stderr",
     "output_type": "stream",
     "text": [
      "100%|████████████████████████████████████████| 66/66 [00:00<00:00, 12724.62it/s]\n",
      "100%|█████████████████████████████████████████| 69/69 [00:00<00:00, 4225.10it/s]\n",
      "100%|█████████████████████████████████████████| 68/68 [00:00<00:00, 4710.44it/s]\n"
     ]
    },
    {
     "name": "stdout",
     "output_type": "stream",
     "text": [
      "JM115Amcmv 40x allab002.nd2\n",
      "(1, 4, 1, 2200, 2200)\n"
     ]
    },
    {
     "name": "stderr",
     "output_type": "stream",
     "text": [
      "100%|████████████████████████████████████████| 68/68 [00:00<00:00, 11975.67it/s]\n",
      "100%|█████████████████████████████████████████| 74/74 [00:00<00:00, 3540.83it/s]\n",
      "100%|█████████████████████████████████████████| 74/74 [00:00<00:00, 3654.09it/s]\n"
     ]
    },
    {
     "name": "stdout",
     "output_type": "stream",
     "text": [
      "JM115A s650k 40x mcheery.nd2\n",
      "(1, 4, 1, 2200, 2200)\n"
     ]
    },
    {
     "name": "stderr",
     "output_type": "stream",
     "text": [
      "100%|██████████████████████████████████████| 142/142 [00:00<00:00, 19881.54it/s]\n",
      "100%|███████████████████████████████████████| 149/149 [00:00<00:00, 8177.85it/s]\n",
      "100%|███████████████████████████████████████| 149/149 [00:00<00:00, 8136.33it/s]\n"
     ]
    },
    {
     "name": "stdout",
     "output_type": "stream",
     "text": [
      "JM115A s6 12.5k 40xallab001.nd2\n",
      "(1, 4, 1, 2200, 2200)\n"
     ]
    },
    {
     "name": "stderr",
     "output_type": "stream",
     "text": [
      "100%|████████████████████████████████████████| 84/84 [00:00<00:00, 11477.39it/s]\n",
      "100%|█████████████████████████████████████████| 91/91 [00:00<00:00, 2320.46it/s]\n",
      "100%|█████████████████████████████████████████| 91/91 [00:00<00:00, 3960.46it/s]\n"
     ]
    },
    {
     "name": "stdout",
     "output_type": "stream",
     "text": [
      "JM115A s6 100k 40x allab006.nd2\n",
      "(1, 4, 1, 2200, 2200)\n"
     ]
    },
    {
     "name": "stderr",
     "output_type": "stream",
     "text": [
      "100%|██████████████████████████████████████| 157/157 [00:00<00:00, 19209.62it/s]\n",
      "100%|███████████████████████████████████████| 171/171 [00:00<00:00, 8456.46it/s]\n",
      "100%|███████████████████████████████████████| 171/171 [00:00<00:00, 9647.53it/s]\n"
     ]
    },
    {
     "name": "stdout",
     "output_type": "stream",
     "text": [
      "JM115Amcmv 40x allab001.nd2\n",
      "(1, 4, 1, 2200, 2200)\n"
     ]
    },
    {
     "name": "stderr",
     "output_type": "stream",
     "text": [
      "100%|████████████████████████████████████████| 65/65 [00:00<00:00, 14336.11it/s]\n",
      "100%|█████████████████████████████████████████| 83/83 [00:00<00:00, 4141.07it/s]\n",
      "100%|█████████████████████████████████████████| 83/83 [00:00<00:00, 4112.99it/s]\n"
     ]
    },
    {
     "name": "stdout",
     "output_type": "stream",
     "text": [
      "JM115A s6 12.5k 40xallab006.nd2\n",
      "(1, 4, 1, 2200, 2200)\n"
     ]
    },
    {
     "name": "stderr",
     "output_type": "stream",
     "text": [
      "100%|████████████████████████████████████████| 42/42 [00:00<00:00, 13366.78it/s]\n",
      "100%|█████████████████████████████████████████| 44/44 [00:00<00:00, 4146.34it/s]\n",
      "100%|█████████████████████████████████████████| 44/44 [00:00<00:00, 4211.44it/s]\n"
     ]
    },
    {
     "name": "stdout",
     "output_type": "stream",
     "text": [
      "JM115A s650k 40x Yap .nd2\n",
      "(1, 4, 1, 2200, 2200)\n"
     ]
    },
    {
     "name": "stderr",
     "output_type": "stream",
     "text": [
      "100%|██████████████████████████████████████| 138/138 [00:00<00:00, 18684.07it/s]\n",
      "100%|███████████████████████████████████████| 148/148 [00:00<00:00, 6597.13it/s]\n",
      "100%|███████████████████████████████████████| 148/148 [00:00<00:00, 7807.09it/s]\n"
     ]
    },
    {
     "name": "stdout",
     "output_type": "stream",
     "text": [
      "JM115Amcmv 40x all ab2003.nd2\n",
      "(1, 4, 1, 2200, 2200)\n"
     ]
    },
    {
     "name": "stderr",
     "output_type": "stream",
     "text": [
      "100%|████████████████████████████████████████| 61/61 [00:00<00:00, 14382.63it/s]\n",
      "100%|█████████████████████████████████████████| 62/62 [00:00<00:00, 5301.02it/s]\n",
      "100%|█████████████████████████████████████████| 62/62 [00:00<00:00, 5847.95it/s]\n"
     ]
    },
    {
     "name": "stdout",
     "output_type": "stream",
     "text": [
      "JM115A s650k 40x no ab.nd2\n",
      "(1, 4, 1, 2200, 2200)\n"
     ]
    },
    {
     "name": "stderr",
     "output_type": "stream",
     "text": [
      "100%|██████████████████████████████████████| 122/122 [00:00<00:00, 15056.35it/s]\n",
      "100%|███████████████████████████████████████| 130/130 [00:00<00:00, 6598.97it/s]\n",
      "100%|███████████████████████████████████████| 130/130 [00:00<00:00, 7511.81it/s]\n"
     ]
    },
    {
     "name": "stdout",
     "output_type": "stream",
     "text": [
      "JM115A s6 12.5k 40xallab014.nd2\n",
      "(1, 4, 1, 2200, 2200)\n"
     ]
    },
    {
     "name": "stderr",
     "output_type": "stream",
     "text": [
      "100%|████████████████████████████████████████| 84/84 [00:00<00:00, 14801.56it/s]\n",
      "100%|█████████████████████████████████████████| 89/89 [00:00<00:00, 5503.61it/s]\n",
      "100%|█████████████████████████████████████████| 89/89 [00:00<00:00, 5998.80it/s]\n"
     ]
    },
    {
     "name": "stdout",
     "output_type": "stream",
     "text": [
      "JM115A s6 12.5k 40xallab008.nd2\n",
      "(1, 4, 1, 2200, 2200)\n"
     ]
    },
    {
     "name": "stderr",
     "output_type": "stream",
     "text": [
      "100%|████████████████████████████████████████| 61/61 [00:00<00:00, 14808.85it/s]\n",
      "100%|█████████████████████████████████████████| 64/64 [00:00<00:00, 2869.31it/s]\n",
      "100%|█████████████████████████████████████████| 64/64 [00:00<00:00, 3788.09it/s]\n"
     ]
    },
    {
     "name": "stdout",
     "output_type": "stream",
     "text": [
      "JM115Amcmv 40x all ab2002.nd2\n",
      "(1, 4, 1, 2200, 2200)\n"
     ]
    },
    {
     "name": "stderr",
     "output_type": "stream",
     "text": [
      "100%|████████████████████████████████████████| 60/60 [00:00<00:00, 14832.22it/s]\n",
      "100%|█████████████████████████████████████████| 66/66 [00:00<00:00, 5521.68it/s]\n",
      "100%|█████████████████████████████████████████| 66/66 [00:00<00:00, 6215.74it/s]\n"
     ]
    },
    {
     "name": "stdout",
     "output_type": "stream",
     "text": [
      "JM115A s6 12.5k 40xallab004.nd2\n",
      "(1, 4, 1, 2200, 2200)\n"
     ]
    },
    {
     "name": "stderr",
     "output_type": "stream",
     "text": [
      "100%|████████████████████████████████████████| 75/75 [00:00<00:00, 13260.25it/s]\n",
      "100%|█████████████████████████████████████████| 80/80 [00:00<00:00, 3848.78it/s]\n",
      "100%|█████████████████████████████████████████| 80/80 [00:00<00:00, 4461.85it/s]\n"
     ]
    },
    {
     "name": "stdout",
     "output_type": "stream",
     "text": [
      "JM115A s6 12.5k 40xallab007.nd2\n",
      "(1, 4, 1, 2200, 2200)\n"
     ]
    },
    {
     "name": "stderr",
     "output_type": "stream",
     "text": [
      "100%|████████████████████████████████████████| 75/75 [00:00<00:00, 15906.80it/s]\n",
      "100%|█████████████████████████████████████████| 78/78 [00:00<00:00, 4623.06it/s]\n",
      "100%|█████████████████████████████████████████| 78/78 [00:00<00:00, 5237.34it/s]\n"
     ]
    },
    {
     "name": "stdout",
     "output_type": "stream",
     "text": [
      "JM115Amcmv 40x allab.nd2\n",
      "(1, 4, 1, 2200, 2200)\n"
     ]
    },
    {
     "name": "stderr",
     "output_type": "stream",
     "text": [
      "100%|████████████████████████████████████████| 92/92 [00:00<00:00, 12689.95it/s]\n",
      "100%|███████████████████████████████████████| 102/102 [00:00<00:00, 3309.35it/s]\n",
      "100%|███████████████████████████████████████| 102/102 [00:00<00:00, 3951.37it/s]\n"
     ]
    },
    {
     "name": "stdout",
     "output_type": "stream",
     "text": [
      "JM115Amcmv 40x all ab2001.nd2\n",
      "(1, 4, 1, 2200, 2200)\n"
     ]
    },
    {
     "name": "stderr",
     "output_type": "stream",
     "text": [
      "100%|████████████████████████████████████████| 56/56 [00:00<00:00, 11557.97it/s]\n",
      "100%|█████████████████████████████████████████| 60/60 [00:00<00:00, 5070.07it/s]\n",
      "100%|█████████████████████████████████████████| 60/60 [00:00<00:00, 5347.04it/s]\n"
     ]
    },
    {
     "name": "stdout",
     "output_type": "stream",
     "text": [
      "JM115A s6 12.5k 40xallab.nd2\n",
      "(1, 4, 1, 2200, 2200)\n"
     ]
    },
    {
     "name": "stderr",
     "output_type": "stream",
     "text": [
      "100%|████████████████████████████████████████| 71/71 [00:00<00:00, 10573.63it/s]\n",
      "100%|█████████████████████████████████████████| 79/79 [00:00<00:00, 3689.00it/s]\n",
      "100%|█████████████████████████████████████████| 79/79 [00:00<00:00, 2345.87it/s]\n"
     ]
    }
   ],
   "source": [
    "# Loop through images-----------------------------------------------------------------------------------------------\n",
    "\n",
    "for img_name in img_list:\n",
    "    print(img_name)\n",
    "    \n",
    "    img_path = os.path.join(base_path, img_name)\n",
    "    tmp_img = AICSImage(img_path)\n",
    "    print(tmp_img.shape)\n",
    "    img = tmp_img.data\n",
    "    \n",
    "    dapi_img = img[0, 0, 0, :, :]\n",
    "    gfp_img = img[0, 1, 0, :, :]\n",
    "    sore6_img = img[0, 2, 0, :, :]\n",
    "    yap_img = img[0, 3, 0, :, :] \n",
    "    \n",
    "    nuc_label = model_apply(dapi_img, 50, nuc_model, 'nuclei')\n",
    "    \n",
    "    cell_tmp = np.add(gfp_img, dapi_img)\n",
    "    cell_tmp = np.where(nuc_label > 0, cell_tmp, gfp_img * 5)\n",
    "    cell_tmp = np.expand_dims(cell_tmp, axis = 0)\n",
    "    dapi_tmp = np.expand_dims(dapi_img, axis = 0)\n",
    "    cell_tmp = np.concatenate((dapi_tmp, cell_tmp), axis = 0)\n",
    "       \n",
    "    cell_label = model_apply(cell_tmp, 100, cyto_model, 'cyto3')\n",
    "    nuc_label = np.where(nuc_label > 0, cell_label, 0)\n",
    "    cyto_label = np.where(nuc_label > 0, 0, cell_label)\n",
    "    \n",
    "    nuc_df = roi_quant(nuc_label, yap_img, sore6_img)\n",
    "    nuc_df = nuc_df.rename(columns = {'area' : 'nuclear_area', 'yap_intensity' : 'nuclear_yap_intensity', 'sore6_intensity' : 'nuclear_sore6_intensity'})\n",
    "\n",
    "    cell_df = roi_quant(cell_label, yap_img, sore6_img)\n",
    "    cell_df = cell_df.rename(columns = {'area' : 'cell_area', 'intensity' : 'cell_intensity', 'sore6_intensity' : 'cell_sore6_intensity'})\n",
    "    \n",
    "    cyto_df = roi_quant(cyto_label, yap_img, sore6_img)\n",
    "    cyto_df = cyto_df.rename(columns = {'area' : 'cyto_area', 'intensity' : 'cyto_intensity', 'sore6_intensity' : 'cyto_sore6_intensity'})\n",
    "\n",
    "    df = pd.merge(nuc_df, cell_df, how = 'left', on = ['cell_id'])\n",
    "    df = pd.merge(df, cyto_df, how = 'left', on = ['cell_id'])\n",
    "    \n",
    "    dapi_path = os.path.join(output_path, img_name.replace('.nd2', '_dapi.tif'))\n",
    "    imwrite(dapi_path, dapi_img)\n",
    "    \n",
    "    gfp_path = os.path.join(output_path, img_name.replace('.nd2', '_gfp.tif'))\n",
    "    imwrite(gfp_path, gfp_img)\n",
    "    \n",
    "    sore6_path = os.path.join(output_path, img_name.replace('.nd2', '_sore6.tif'))\n",
    "    imwrite(sore6_path, sore6_img)\n",
    "    \n",
    "    yap_path = os.path.join(output_path, img_name.replace('.nd2', '_yap.tif'))\n",
    "    imwrite(yap_path, yap_img)\n",
    "    \n",
    "    nuc_label_path = os.path.join(output_path, img_name.replace('.nd2', '_nuclei.tif'))\n",
    "    nuc_label = np.uint16(nuc_label)\n",
    "    imwrite(nuc_label_path, nuc_label)\n",
    "    \n",
    "    cell_label_path = os.path.join(output_path, img_name.replace('.nd2', '_cell.tif'))\n",
    "    cyto_label = np.uint16(cyto_label)\n",
    "    imwrite(cell_label_path, cell_label)\n",
    "    \n",
    "    cyto_label_path = os.path.join(output_path, img_name.replace('.nd2', '_cyto.tif'))\n",
    "    imwrite(cyto_label_path, cyto_label)\n",
    "    \n",
    "    df_path = os.path.join(output_path, img_name.replace('.nd2', '_output.csv'))\n",
    "    df.to_csv(df_path, header = True)"
   ]
  },
  {
   "cell_type": "markdown",
   "id": "bcf416b7",
   "metadata": {},
   "source": [
    "### Napari visualization"
   ]
  },
  {
   "cell_type": "code",
   "execution_count": 11,
   "id": "a7c9a48c",
   "metadata": {},
   "outputs": [
    {
     "name": "stdout",
     "output_type": "stream",
     "text": [
      "['JM115Amcmv 40x allab', 'JM115Amcmv 40x allab002', 'JM115Amcmv 40x all ab2003', 'JM115A s6 12.5k 40xallab012', 'JM115A s650k 40x Yap ', 'JM115A s6 12.5k 40xallab014', 'JM115A s6 100k 40x allab', 'JM115A s6 100k 40x allab003', 'JM115A s6 12.5k 40xallab011', 'JM115A s6 100k 40x allab008', 'JM115A s6 12.5k 40xallab009', 'JM115A s650k 40x mcheery', 'JM115A s6 12.5k 40xallab006', 'JM115A s6 12.5k 40xallab001', 'JM115A s6 100k 40x allab005', 'JM115A s6 12.5k 40xallab', 'JM115A s6 100k 40x allab002', 'JM115A s6 12.5k 40xallab018', 'JM115A s6 12.5k 40xallab002', 'JM115A s6 12.5k 40xallab007', 'JM115A s650k 40x Yap 001', 'JM115Amcmv 40x all ab2001', 'JM115A s6 12.5k 40xallab004', 'JM115A s6 100k 40x allab006', 'JM115A s6 12.5k 40xallab005', 'JM115A s6 100k 40x allab009', 'JM115A s6 12.5k 40xallab020', 'JM115A s6 12.5k 40xallab013', 'JM115A s6 12.5k 40xallab010', 'JM115A s6 12.5k 40xallab008', 'JM115Amcmv 40x all ab2002', 'JM115A s650k 40x no ab', 'JM115A s6 100k 40x allab007', 'JM115A s6 100k 40x allab004', 'JM115A s650k 40x mcheery001', 'JM115A s6 12.5k 40xallab015', 'JM115A s6 12.5k 40xallab016', 'JM115A s650k 40x no ab001', 'JM115A s6 100k 40x allab001', 'JM115Amcmv 40x all ab2', 'JM115A s6 12.5k 40xallab017', 'JM115Amcmv 40x allab001', 'JM115A s6 12.5k 40xallab003', 'JM115A s6 12.5k 40xallab019']\n",
      "44\n"
     ]
    }
   ],
   "source": [
    "# Get image list----------------------------------------------------------------------------------------------------\n",
    "\n",
    "tmp_list = os.listdir(output_path)\n",
    "img_list = [] \n",
    "\n",
    "for tmp in tmp_list:\n",
    "    if re.search('_dapi.tif', tmp):\n",
    "        img_list.append(tmp.replace('_dapi.tif', ''))\n",
    "        \n",
    "print(img_list)\n",
    "print(len(img_list))"
   ]
  },
  {
   "cell_type": "code",
   "execution_count": 17,
   "id": "a396439e",
   "metadata": {},
   "outputs": [
    {
     "name": "stdout",
     "output_type": "stream",
     "text": [
      "JM115Amcmv 40x all ab2003\n"
     ]
    }
   ],
   "source": [
    "img_name = img_list[2]\n",
    "print(img_name)\n",
    "\n",
    "dapi_path = os.path.join(output_path, img_name + '_dapi.tif')\n",
    "dapi_img = imread(dapi_path)\n",
    "\n",
    "gfp_path = os.path.join(output_path, img_name + '_gfp.tif')\n",
    "gfp_img = imread(gfp_path)\n",
    "\n",
    "sore6_path = os.path.join(output_path, img_name + '_sore6.tif')\n",
    "sore6_img = imread(sore6_path)\n",
    "\n",
    "yap_path = os.path.join(output_path, img_name + '_yap.tif')\n",
    "yap_img = imread(yap_path)\n",
    "\n",
    "nuc_label_path = os.path.join(output_path, img_name +  '_nuclei.tif')\n",
    "nuc_label = imread(nuc_label_path)\n",
    "    \n",
    "cell_label_path = os.path.join(output_path, img_name +  '_cell.tif')\n",
    "cell_label = imread(cell_label_path)\n",
    "    \n",
    "cyto_label_path = os.path.join(output_path, img_name + '_cyto.tif')\n",
    "cyto_label = imread(cyto_label_path)"
   ]
  },
  {
   "cell_type": "code",
   "execution_count": 18,
   "id": "0106c29e",
   "metadata": {},
   "outputs": [],
   "source": [
    "viewer = napari.view_image(dapi_img, name = 'DAPI', colormap = 'blue', blending = 'additive')\n",
    "gfp_layer = viewer.add_image(gfp_img, name = 'GFP', colormap = 'green', blending = 'additive')\n",
    "sore6_layer = viewer.add_image(sore6_img, name = 'SORE6', colormap = 'red', blending = 'additive')\n",
    "yap_layer = viewer.add_image(yap_img, name = 'YAP', colormap = 'gray', blending = 'additive')\n",
    "nuc_label_layer = viewer.add_labels(nuc_label, name = 'Nuclear label')\n",
    "cell_label_layer = viewer.add_labels(cell_label, name = 'Cell label')\n",
    "cyto_label_layer = viewer.add_labels(cyto_label, name = 'Cytoplasmic label')"
   ]
  },
  {
   "cell_type": "code",
   "execution_count": 19,
   "id": "1a80c9f5",
   "metadata": {},
   "outputs": [],
   "source": [
    "viewer.close()"
   ]
  },
  {
   "cell_type": "code",
   "execution_count": null,
   "id": "6d6f27f5-f86a-4ce4-bb71-e1a574c60702",
   "metadata": {},
   "outputs": [],
   "source": []
  }
 ],
 "metadata": {
  "kernelspec": {
   "display_name": "Python 3 (ipykernel)",
   "language": "python",
   "name": "python3"
  },
  "language_info": {
   "codemirror_mode": {
    "name": "ipython",
    "version": 3
   },
   "file_extension": ".py",
   "mimetype": "text/x-python",
   "name": "python",
   "nbconvert_exporter": "python",
   "pygments_lexer": "ipython3",
   "version": "3.12.9"
  }
 },
 "nbformat": 4,
 "nbformat_minor": 5
}
